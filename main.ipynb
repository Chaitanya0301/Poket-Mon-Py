{
 "cells": [
  {
   "cell_type": "code",
   "execution_count": 1,
   "id": "c195a7ee",
   "metadata": {},
   "outputs": [],
   "source": [
    "# project: p4\n",
    "# submitter: csharma4@wisc.edu\n",
    "# partner: None\n",
    "# hours: 1.5"
   ]
  },
  {
   "cell_type": "code",
   "execution_count": 2,
   "id": "99a26af8",
   "metadata": {},
   "outputs": [],
   "source": [
    "import project\n",
    "import math\n",
    "def damage(attacker, defender):\n",
    "    physical_damage = 10 * project.get_attack(attacker) / project.get_defense(defender)\n",
    "    special_damage = 10 * project.get_sp_atk(attacker) / project.get_sp_def(defender)\n",
    "    if physical_damage > special_damage:\n",
    "        return physical_damage\n",
    "    else:\n",
    "        return special_damage"
   ]
  },
  {
   "cell_type": "code",
   "execution_count": 3,
   "id": "697728bc",
   "metadata": {},
   "outputs": [
    {
     "data": {
      "text/plain": [
       "4.545454545454546"
      ]
     },
     "execution_count": 3,
     "metadata": {},
     "output_type": "execute_result"
    }
   ],
   "source": [
    "#Q1: How much damage does Kakuna do to Paras?\n",
    "damage('Kakuna','Paras')"
   ]
  },
  {
   "cell_type": "code",
   "execution_count": 4,
   "id": "3868fc3a",
   "metadata": {},
   "outputs": [
    {
     "data": {
      "text/plain": [
       "16.25"
      ]
     },
     "execution_count": 4,
     "metadata": {},
     "output_type": "execute_result"
    }
   ],
   "source": [
    "#Q2: How much damage does Delcatty do to Fennekin?\n",
    "damage('Delcatty','Fennekin')"
   ]
  },
  {
   "cell_type": "code",
   "execution_count": 5,
   "id": "81761cd4",
   "metadata": {},
   "outputs": [],
   "source": [
    "def type_bonus(attack_type, defender):\n",
    "    defender_type1 = project.get_type1(defender)\n",
    "    defender_type2 = project.get_type2(defender)\n",
    "    bonus = project.get_type_effectiveness(attack_type, defender_type1)\n",
    "    if defender_type2 != 'None':\n",
    "        return bonus * project.get_type_effectiveness(attack_type, defender_type2)\n",
    "    return bonus"
   ]
  },
  {
   "cell_type": "code",
   "execution_count": 6,
   "id": "12e035a4",
   "metadata": {},
   "outputs": [
    {
     "data": {
      "text/plain": [
       "1.0"
      ]
     },
     "execution_count": 6,
     "metadata": {},
     "output_type": "execute_result"
    }
   ],
   "source": [
    "#Q3: How effective is Poison-type against Pikachu?\n",
    "type_bonus('Poison','Pikachu')"
   ]
  },
  {
   "cell_type": "code",
   "execution_count": 7,
   "id": "df17ddd7",
   "metadata": {},
   "outputs": [
    {
     "data": {
      "text/plain": [
       "0.5"
      ]
     },
     "execution_count": 7,
     "metadata": {},
     "output_type": "execute_result"
    }
   ],
   "source": [
    "#Q4: How effective is Water-type against Slowbro?\n",
    "type_bonus('Water','Slowbro')"
   ]
  },
  {
   "cell_type": "code",
   "execution_count": 8,
   "id": "42b62a7d",
   "metadata": {},
   "outputs": [],
   "source": [
    "def get_num_types(pkmn):\n",
    "    if project.get_type1(pkmn) == 'None':\n",
    "        return 0\n",
    "    elif project.get_type2(pkmn) == 'None':\n",
    "        return 1\n",
    "    else:\n",
    "        return 2"
   ]
  },
  {
   "cell_type": "code",
   "execution_count": 9,
   "id": "21e028cb",
   "metadata": {},
   "outputs": [],
   "source": [
    "def effective_damage(attacker, defender):\n",
    "    bonus1 = type_bonus(project.get_type1(attacker), defender)\n",
    "    \n",
    "    if get_num_types(attacker) != 2:\n",
    "        return damage(attacker,defender) * bonus1\n",
    "    else:\n",
    "        bonus2 =  type_bonus(project.get_type2(attacker), defender)\n",
    "        bonus = max(bonus1,bonus2)\n",
    "        return damage(attacker,defender) * bonus"
   ]
  },
  {
   "cell_type": "code",
   "execution_count": 10,
   "id": "875f73fe",
   "metadata": {},
   "outputs": [
    {
     "data": {
      "text/plain": [
       "12.222222222222221"
      ]
     },
     "execution_count": 10,
     "metadata": {},
     "output_type": "execute_result"
    }
   ],
   "source": [
    "#Q5: How much damage does Pikachu do to Haunter?\n",
    "effective_damage('Pikachu','Haunter')"
   ]
  },
  {
   "cell_type": "code",
   "execution_count": 11,
   "id": "da7573bb",
   "metadata": {},
   "outputs": [
    {
     "data": {
      "text/plain": [
       "30.90909090909091"
      ]
     },
     "execution_count": 11,
     "metadata": {},
     "output_type": "execute_result"
    }
   ],
   "source": [
    "#Q6: How much damage does Quagsire do to Raichu?\n",
    "effective_damage('Quagsire','Raichu')"
   ]
  },
  {
   "cell_type": "code",
   "execution_count": 12,
   "id": "7668c857",
   "metadata": {},
   "outputs": [
    {
     "data": {
      "text/plain": [
       "12.380952380952381"
      ]
     },
     "execution_count": 12,
     "metadata": {},
     "output_type": "execute_result"
    }
   ],
   "source": [
    "#Q7: How much damage does Slowpoke do to Gligar?\n",
    "effective_damage('Slowpoke','Gligar')"
   ]
  },
  {
   "cell_type": "code",
   "execution_count": 13,
   "id": "1ccd8bbd",
   "metadata": {},
   "outputs": [],
   "source": [
    "def num_hits(attacker, defender):\n",
    "    return math.ceil(project.get_hp(defender) / effective_damage(attacker,defender))"
   ]
  },
  {
   "cell_type": "code",
   "execution_count": 14,
   "id": "af6a0f6b",
   "metadata": {},
   "outputs": [
    {
     "data": {
      "text/plain": [
       "1"
      ]
     },
     "execution_count": 14,
     "metadata": {},
     "output_type": "execute_result"
    }
   ],
   "source": [
    "#Q8: How many hits can the defending pokemon Bulbasaur take from Flareon (attacker)?\n",
    "num_hits('Flareon','Bulbasaur')"
   ]
  },
  {
   "cell_type": "code",
   "execution_count": 15,
   "id": "a42c4e15",
   "metadata": {},
   "outputs": [
    {
     "data": {
      "text/plain": [
       "8"
      ]
     },
     "execution_count": 15,
     "metadata": {},
     "output_type": "execute_result"
    }
   ],
   "source": [
    "#Q9: How many hits can the defending pokemon Blastoise take from Charizard (attacker)?\n",
    "num_hits('Charizard','Blastoise')"
   ]
  },
  {
   "cell_type": "code",
   "execution_count": 16,
   "id": "d70903ae",
   "metadata": {},
   "outputs": [],
   "source": [
    "def battle(pkmn1, pkmn2):\n",
    "    speed1 = project.get_speed(pkmn1)\n",
    "    speed2 = project.get_speed(pkmn2)\n",
    "    hits1 = num_hits(pkmn2,pkmn1)\n",
    "    hits2 = num_hits(pkmn1,pkmn2)\n",
    "    if hits1 > hits2 and hits1 - hits2 > 10:\n",
    "        return pkmn2+' ran away'\n",
    "    elif hits2 > hits1 and hits2 - hits1 > 10:\n",
    "        return pkmn1+' ran away'\n",
    "    elif hits1 > hits2:\n",
    "        return pkmn1\n",
    "    elif hits2 > hits1:\n",
    "        return pkmn2\n",
    "    else:\n",
    "        if speed1 > speed2:\n",
    "            return pkmn1\n",
    "        elif speed2 > speed1:\n",
    "            return pkmn2\n",
    "        else:\n",
    "            return 'Draw'\n",
    "        "
   ]
  },
  {
   "cell_type": "code",
   "execution_count": 17,
   "id": "6643ba92",
   "metadata": {},
   "outputs": [
    {
     "data": {
      "text/plain": [
       "'Flareon'"
      ]
     },
     "execution_count": 17,
     "metadata": {},
     "output_type": "execute_result"
    }
   ],
   "source": [
    "#Q10: What is the output of battle('Bulbasaur', 'Flareon')?\n",
    "battle('Bulbasaur','Flareon')"
   ]
  },
  {
   "cell_type": "code",
   "execution_count": 18,
   "id": "9d86d554",
   "metadata": {},
   "outputs": [
    {
     "data": {
      "text/plain": [
       "'Blastoise'"
      ]
     },
     "execution_count": 18,
     "metadata": {},
     "output_type": "execute_result"
    }
   ],
   "source": [
    "#Q11: What is the output of battle('Charizard', 'Blastoise')?\n",
    "battle('Charizard', 'Blastoise')"
   ]
  },
  {
   "cell_type": "code",
   "execution_count": 19,
   "id": "cfa2b828",
   "metadata": {},
   "outputs": [
    {
     "data": {
      "text/plain": [
       "'Starly'"
      ]
     },
     "execution_count": 19,
     "metadata": {},
     "output_type": "execute_result"
    }
   ],
   "source": [
    "#Q12: What is the output of battle('Pidgey', 'Starly')?\n",
    "battle('Pidgey', 'Starly')"
   ]
  },
  {
   "cell_type": "code",
   "execution_count": 20,
   "id": "37062f62",
   "metadata": {},
   "outputs": [
    {
     "data": {
      "text/plain": [
       "'Draw'"
      ]
     },
     "execution_count": 20,
     "metadata": {},
     "output_type": "execute_result"
    }
   ],
   "source": [
    "#Q13: What is the output of battle('Mudkip', 'Gulpin')?\n",
    "battle('Mudkip', 'Gulpin')"
   ]
  },
  {
   "cell_type": "code",
   "execution_count": 21,
   "id": "a5aa5c9b",
   "metadata": {},
   "outputs": [
    {
     "data": {
      "text/plain": [
       "'Charizard'"
      ]
     },
     "execution_count": 21,
     "metadata": {},
     "output_type": "execute_result"
    }
   ],
   "source": [
    "#Q14: What is the output of battle('Charizard', 'Bellsprout')?\n",
    "battle('Charizard', 'Bellsprout')"
   ]
  },
  {
   "cell_type": "code",
   "execution_count": 22,
   "id": "6265f94f",
   "metadata": {},
   "outputs": [
    {
     "data": {
      "text/plain": [
       "'Pikachu ran away'"
      ]
     },
     "execution_count": 22,
     "metadata": {},
     "output_type": "execute_result"
    }
   ],
   "source": [
    "#Q15: What is the output of battle('Mewtwo', 'Pikachu')?\n",
    "battle('Mewtwo', 'Pikachu')"
   ]
  },
  {
   "cell_type": "code",
   "execution_count": 23,
   "id": "f7129f5d",
   "metadata": {},
   "outputs": [
    {
     "data": {
      "text/plain": [
       "'Magikarp ran away'"
      ]
     },
     "execution_count": 23,
     "metadata": {},
     "output_type": "execute_result"
    }
   ],
   "source": [
    "#Q16: What is the output of battle('Slowpoke', 'Magikarp')?\n",
    "battle('Slowpoke', 'Magikarp')"
   ]
  },
  {
   "cell_type": "code",
   "execution_count": 24,
   "id": "aca4527e",
   "metadata": {},
   "outputs": [],
   "source": [
    "def same_region(pkmn1, pkmn2):\n",
    "    #TODO: Return True if pkmn1 and pkmn2 belong to the same region\n",
    "    if project.get_region(pkmn1) == project.get_region(pkmn2):\n",
    "        return True\n",
    "    # Return False otherwise\n",
    "    return False"
   ]
  },
  {
   "cell_type": "code",
   "execution_count": 25,
   "id": "043f2d8d",
   "metadata": {},
   "outputs": [],
   "source": [
    "def luap_battle(pkmn1, pkmn2):\n",
    "    pkmn1_type = project.get_type1(pkmn1)\n",
    "    pkmn2_type = project.get_type1(pkmn2)\n",
    "    #TODO: determine if Pokémons are from the same region; you must invoke the relevant function you defined in lab-p4\n",
    "    if same_region(pkmn1,pkmn2) == True:\n",
    "        return \"Forbidden\"\n",
    "    # TODO: Return the output of battle(pkmn1, pkmn2) only when the battle follows the LUAP guidelines.\n",
    "    # TODO: If it does not follow the guidelines, output \"Forbidden\".\n",
    "    if (pkmn1_type == 'Fire' and pkmn2_type == 'Bug')or(pkmn2_type == 'Fire' and pkmn1_type == 'Bug'):\n",
    "        return \"Forbidden\"\n",
    "    else:\n",
    "        return battle(pkmn1,pkmn2)"
   ]
  },
  {
   "cell_type": "code",
   "execution_count": 26,
   "id": "d575ee7c",
   "metadata": {},
   "outputs": [
    {
     "data": {
      "text/plain": [
       "'Forbidden'"
      ]
     },
     "execution_count": 26,
     "metadata": {},
     "output_type": "execute_result"
    }
   ],
   "source": [
    "#Q17: What is the output of luap_battle('Paras', 'Arcanine')?\n",
    "luap_battle('Paras', 'Arcanine')"
   ]
  },
  {
   "cell_type": "code",
   "execution_count": 27,
   "id": "f2e6af8a",
   "metadata": {},
   "outputs": [
    {
     "data": {
      "text/plain": [
       "'Forbidden'"
      ]
     },
     "execution_count": 27,
     "metadata": {},
     "output_type": "execute_result"
    }
   ],
   "source": [
    "#Q18: What is the output of luap_battle('Magby', 'Venomoth')?\n",
    "luap_battle('Magby', 'Venomoth')"
   ]
  },
  {
   "cell_type": "code",
   "execution_count": 28,
   "id": "8ac2c73b",
   "metadata": {},
   "outputs": [
    {
     "data": {
      "text/plain": [
       "'Arcanine'"
      ]
     },
     "execution_count": 28,
     "metadata": {},
     "output_type": "execute_result"
    }
   ],
   "source": [
    "#Q19: What is the output of luap_battle('Electivire', 'Arcanine')?\n",
    "luap_battle('Electivire', 'Arcanine')"
   ]
  },
  {
   "cell_type": "code",
   "execution_count": 29,
   "id": "937d359c",
   "metadata": {},
   "outputs": [
    {
     "data": {
      "text/plain": [
       "'Forbidden'"
      ]
     },
     "execution_count": 29,
     "metadata": {},
     "output_type": "execute_result"
    }
   ],
   "source": [
    "#Q20: What is the output of luap_battle('Flygon', 'Sceptile')?\n",
    "luap_battle('Flygon', 'Sceptile')"
   ]
  }
 ],
 "metadata": {
  "kernelspec": {
   "display_name": "Python 3 (ipykernel)",
   "language": "python",
   "name": "python3"
  },
  "language_info": {
   "codemirror_mode": {
    "name": "ipython",
    "version": 3
   },
   "file_extension": ".py",
   "mimetype": "text/x-python",
   "name": "python",
   "nbconvert_exporter": "python",
   "pygments_lexer": "ipython3",
   "version": "3.9.7"
  }
 },
 "nbformat": 4,
 "nbformat_minor": 5
}
